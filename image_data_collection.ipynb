{
  "cells": [
    {
      "cell_type": "markdown",
      "metadata": {
        "id": "view-in-github",
        "colab_type": "text"
      },
      "source": [
        "<a href=\"https://colab.research.google.com/github/anmolkhurana490/Indian-Celebrity-Face-Classification/blob/main/Image_data_collection.ipynb\" target=\"_parent\"><img src=\"https://colab.research.google.com/assets/colab-badge.svg\" alt=\"Open In Colab\"/></a>"
      ]
    },
    {
      "cell_type": "code",
      "execution_count": null,
      "metadata": {
        "id": "jzh7FURQ0Ztk",
        "colab": {
          "base_uri": "https://localhost:8080/"
        },
        "outputId": "bd9f1ccf-7702-456a-c9ce-dfd7413d0ae7"
      },
      "outputs": [
        {
          "output_type": "stream",
          "name": "stdout",
          "text": [
            "Requirement already satisfied: selenium in /usr/local/lib/python3.10/dist-packages (4.21.0)\n",
            "Requirement already satisfied: urllib3[socks]<3,>=1.26 in /usr/local/lib/python3.10/dist-packages (from selenium) (2.0.7)\n",
            "Requirement already satisfied: trio~=0.17 in /usr/local/lib/python3.10/dist-packages (from selenium) (0.25.1)\n",
            "Requirement already satisfied: trio-websocket~=0.9 in /usr/local/lib/python3.10/dist-packages (from selenium) (0.11.1)\n",
            "Requirement already satisfied: certifi>=2021.10.8 in /usr/local/lib/python3.10/dist-packages (from selenium) (2024.2.2)\n",
            "Requirement already satisfied: typing_extensions>=4.9.0 in /usr/local/lib/python3.10/dist-packages (from selenium) (4.11.0)\n",
            "Requirement already satisfied: attrs>=23.2.0 in /usr/local/lib/python3.10/dist-packages (from trio~=0.17->selenium) (23.2.0)\n",
            "Requirement already satisfied: sortedcontainers in /usr/local/lib/python3.10/dist-packages (from trio~=0.17->selenium) (2.4.0)\n",
            "Requirement already satisfied: idna in /usr/local/lib/python3.10/dist-packages (from trio~=0.17->selenium) (3.7)\n",
            "Requirement already satisfied: outcome in /usr/local/lib/python3.10/dist-packages (from trio~=0.17->selenium) (1.3.0.post0)\n",
            "Requirement already satisfied: sniffio>=1.3.0 in /usr/local/lib/python3.10/dist-packages (from trio~=0.17->selenium) (1.3.1)\n",
            "Requirement already satisfied: exceptiongroup in /usr/local/lib/python3.10/dist-packages (from trio~=0.17->selenium) (1.2.1)\n",
            "Requirement already satisfied: wsproto>=0.14 in /usr/local/lib/python3.10/dist-packages (from trio-websocket~=0.9->selenium) (1.2.0)\n",
            "Requirement already satisfied: pysocks!=1.5.7,<2.0,>=1.5.6 in /usr/local/lib/python3.10/dist-packages (from urllib3[socks]<3,>=1.26->selenium) (1.7.1)\n",
            "Requirement already satisfied: h11<1,>=0.9.0 in /usr/local/lib/python3.10/dist-packages (from wsproto>=0.14->trio-websocket~=0.9->selenium) (0.14.0)\n"
          ]
        }
      ],
      "source": [
        "!pip install selenium"
      ]
    },
    {
      "cell_type": "code",
      "execution_count": null,
      "metadata": {
        "id": "ciP1u37m0arI",
        "colab": {
          "base_uri": "https://localhost:8080/"
        },
        "outputId": "f29b3842-8b1a-426a-bf69-1632562065e0"
      },
      "outputs": [
        {
          "output_type": "stream",
          "name": "stdout",
          "text": [
            "\r0% [Working]\r            \rHit:1 https://cloud.r-project.org/bin/linux/ubuntu jammy-cran40/ InRelease\n",
            "\r0% [Connecting to archive.ubuntu.com (91.189.91.82)] [Connecting to security.ubuntu.com (185.125.190\r                                                                                                    \rHit:2 https://developer.download.nvidia.com/compute/cuda/repos/ubuntu2204/x86_64  InRelease\n",
            "\r0% [Waiting for headers] [Waiting for headers] [Connecting to ppa.launchpadcontent.net (185.125.190.\r                                                                                                    \rHit:3 http://archive.ubuntu.com/ubuntu jammy InRelease\n",
            "\r                                                                                                    \r0% [Waiting for headers] [Connecting to ppa.launchpadcontent.net (185.125.190.80)]\r                                                                                  \rGet:4 http://archive.ubuntu.com/ubuntu jammy-updates InRelease [119 kB]\n",
            "Get:5 http://security.ubuntu.com/ubuntu jammy-security InRelease [110 kB]\n",
            "Hit:6 http://archive.ubuntu.com/ubuntu jammy-backports InRelease\n",
            "Hit:7 https://ppa.launchpadcontent.net/c2d4u.team/c2d4u4.0+/ubuntu jammy InRelease\n",
            "Hit:8 https://ppa.launchpadcontent.net/deadsnakes/ppa/ubuntu jammy InRelease\n",
            "Hit:9 https://ppa.launchpadcontent.net/graphics-drivers/ppa/ubuntu jammy InRelease\n",
            "Hit:10 https://ppa.launchpadcontent.net/ubuntugis/ppa/ubuntu jammy InRelease\n",
            "Fetched 229 kB in 3s (76.3 kB/s)\n",
            "Reading package lists... Done\n"
          ]
        }
      ],
      "source": [
        "!apt-get update"
      ]
    },
    {
      "cell_type": "code",
      "execution_count": null,
      "metadata": {
        "id": "8oWyFWYl0avU",
        "colab": {
          "base_uri": "https://localhost:8080/"
        },
        "outputId": "994b19d6-0cb9-4f01-f91e-06c80a208496"
      },
      "outputs": [
        {
          "output_type": "stream",
          "name": "stdout",
          "text": [
            "Reading package lists... Done\n",
            "Building dependency tree... Done\n",
            "Reading state information... Done\n",
            "chromium-browser is already the newest version (1:85.0.4183.83-0ubuntu2.22.04.1).\n",
            "0 upgraded, 0 newly installed, 0 to remove and 44 not upgraded.\n"
          ]
        }
      ],
      "source": [
        "!apt-get install -y chromium-browser"
      ]
    },
    {
      "cell_type": "code",
      "execution_count": null,
      "metadata": {
        "id": "uAMpNrzP0a1l",
        "colab": {
          "base_uri": "https://localhost:8080/"
        },
        "outputId": "416335ba-5626-4ff6-db75-2adcd9a0562f"
      },
      "outputs": [
        {
          "output_type": "stream",
          "name": "stdout",
          "text": [
            "Reading package lists... Done\n",
            "Building dependency tree... Done\n",
            "Reading state information... Done\n",
            "chromium-chromedriver is already the newest version (1:85.0.4183.83-0ubuntu2.22.04.1).\n",
            "0 upgraded, 0 newly installed, 0 to remove and 44 not upgraded.\n"
          ]
        }
      ],
      "source": [
        "!apt install chromium-chromedriver"
      ]
    },
    {
      "cell_type": "code",
      "execution_count": null,
      "metadata": {
        "id": "uC3qMLLxtvhB"
      },
      "outputs": [],
      "source": [
        "import os\n",
        "import requests\n",
        "import time\n",
        "from bs4 import BeautifulSoup\n",
        "from selenium import webdriver\n",
        "from selenium.webdriver.common.by import By\n",
        "import base64\n",
        "from io import BytesIO\n",
        "from PIL import Image\n",
        "import threading"
      ]
    },
    {
      "cell_type": "code",
      "execution_count": null,
      "metadata": {
        "id": "OhE9Qp92gJ-h",
        "colab": {
          "base_uri": "https://localhost:8080/"
        },
        "outputId": "85fc30fd-0f19-4981-8a4a-0c506a3a348c"
      },
      "outputs": [
        {
          "output_type": "stream",
          "name": "stdout",
          "text": [
            "Drive already mounted at /content/drive; to attempt to forcibly remount, call drive.mount(\"/content/drive\", force_remount=True).\n"
          ]
        }
      ],
      "source": [
        "from google.colab import drive\n",
        "drive.mount('/content/drive')"
      ]
    },
    {
      "cell_type": "code",
      "execution_count": null,
      "metadata": {
        "id": "1SriTjcGmcWg"
      },
      "outputs": [],
      "source": [
        "options=webdriver.ChromeOptions()\n",
        "options.add_argument('--no-sandbox')\n",
        "options.add_argument('--headless')\n",
        "options.add_argument('--disable-gpu')\n",
        "options.add_argument('--disable-dve-shm-uage')"
      ]
    },
    {
      "cell_type": "code",
      "execution_count": null,
      "metadata": {
        "id": "zd2Em41Okz-y"
      },
      "outputs": [],
      "source": [
        "allowed_formats=[\"jpg\", \"png\", \"cms\"]"
      ]
    },
    {
      "cell_type": "code",
      "source": [
        "#to get correct url of a image in chrome\n",
        "def fetch_image_url(driver, image, name, results):\n",
        "    try:\n",
        "        image.click()\n",
        "        #time.sleep(0.5)\n",
        "    except:\n",
        "        print(\"exception\", name, len(results[\"images_url\"]))\n",
        "\n",
        "    links=driver.find_elements(By.CSS_SELECTOR, \"img[jsname='kn3ccd']\")\n",
        "\n",
        "    for link in links:\n",
        "        if not link or not link.get_attribute('src'):\n",
        "            results[\"skipped_invalid_url\"]+=1\n",
        "            continue\n",
        "\n",
        "        elif link.get_attribute('src').startswith('data:image'):\n",
        "            results[\"images_encoded\"].append(link.get_attribute('src'))\n",
        "\n",
        "        elif link.get_attribute('src').lower()[-3:] in allowed_formats:\n",
        "            if link.get_attribute('src') in results[\"images_url\"]:\n",
        "                results[\"already_exists\"]+=1\n",
        "\n",
        "            else:\n",
        "                results[\"images_url\"].append(link.get_attribute('src'))\n",
        "                #print(link.get_attribute('src'))\n",
        "\n",
        "        else:\n",
        "            #print(\"invalid:\", link.get_attribute('src'))\n",
        "            results[\"skipped_invalid_url\"]+=1"
      ],
      "metadata": {
        "id": "6oM3-qF6zaWp"
      },
      "execution_count": null,
      "outputs": []
    },
    {
      "cell_type": "code",
      "execution_count": null,
      "metadata": {
        "id": "ut6EuhrMuBde"
      },
      "outputs": [],
      "source": [
        "#to get (num) images urls in chrome of a celebrity\n",
        "def get_images(name, min, num):\n",
        "    query=f\"{name} images\"\n",
        "\n",
        "    results={\n",
        "        \"images_url\": [],\n",
        "        \"images_encoded\": [],\n",
        "        \"skipped_invalid_url\": 0,\n",
        "        \"already_exists\": 0,\n",
        "        \"num_scrolls\": 0,\n",
        "    }\n",
        "\n",
        "    url=f\"https://www.google.com/search?safe=off&site=&tbm=isch&source=hp&q={name}&oq={name}&gs_l=img\"\n",
        "\n",
        "    driver=webdriver.Chrome(options=options)\n",
        "    driver.get(url)\n",
        "\n",
        "    while True:\n",
        "        img_elements=driver.find_elements(By.CSS_SELECTOR, '.F0uyec img')\n",
        "\n",
        "        for image in img_elements:\n",
        "            fetch_image_url(driver, image, name, results)\n",
        "            if len(results[\"images_url\"])>num:\n",
        "                return results\n",
        "\n",
        "        while len(results[\"images_url\"])<min:\n",
        "            print(\"scrolling down\")\n",
        "            prevHeight=driver.execute_script(\"return document.body.scrollHeight\")\n",
        "            driver.execute_script(\"window.scrollTo(0, document.body.scrollHeight)\")\n",
        "            newHeight=driver.execute_script(\"return document.body.scrollHeight\")\n",
        "            if prevHeight==newHeight:\n",
        "                print(\"scrolling failed\")\n",
        "                #load_more_button=driver.find_element(By.CSS_SELECTOR, \".mye4qd\")\n",
        "                #print(load_more_button)\n",
        "            else:\n",
        "                results[\"num_scrolls\"]+=1\n",
        "                break\n",
        "        else:\n",
        "            return results"
      ]
    },
    {
      "cell_type": "code",
      "execution_count": null,
      "metadata": {
        "id": "9GglzdNpuGSd"
      },
      "outputs": [],
      "source": [
        "#to download image from url\n",
        "def download_image(url, path):\n",
        "  image_data=requests.get(url).content\n",
        "  with open(f\"/content/drive/MyDrive/Indian Celebrity Prediction/datasets/images/original images/{path}\", \"wb\") as file:\n",
        "    file.write(image_data)"
      ]
    },
    {
      "cell_type": "code",
      "execution_count": null,
      "metadata": {
        "id": "Gk67_cfZOd9N"
      },
      "outputs": [],
      "source": [
        "#to save based64 encoded image by decoding it\n",
        "def decode_image(img, path):\n",
        "  header, encoded=img.split(\",\")\n",
        "  img_bytes=base64.b64decode(encoded)\n",
        "  buffer=BytesIO(img_bytes)\n",
        "  image=Image.open(buffer).convert('RGB')\n",
        "  with open(f\"/content/drive/MyDrive/Indian Celebrity Prediction/datasets/images/original images/{path}\", \"wb\") as f:\n",
        "    image.save(f,\"JPEG\")"
      ]
    },
    {
      "cell_type": "code",
      "execution_count": null,
      "metadata": {
        "id": "fbn8Kgy2uKCe"
      },
      "outputs": [],
      "source": [
        "celebrity_names=[\"Alia Bhatt\", \"Amitabh Bachchan\", \"Anupam Kher\", \"Deepika Padukone\", \"Hema Malini\", \"Rajkumar Rao\", \"Sachin Tendulkar\", \"Salman Khan\", \"Shah Rukh Khan\", \"Shilpa Shetty\"]"
      ]
    },
    {
      "cell_type": "code",
      "execution_count": null,
      "metadata": {
        "id": "SDXL2Nu8uOxs"
      },
      "outputs": [],
      "source": [
        "#downloading required images of a celebrity\n",
        "def download_celebrity_images(name):\n",
        "  #make directory of the celebrity\n",
        "  if not os.path.exists(f\"/content/drive/MyDrive/Indian Celebrity Prediction/datasets/images/original images/{name}\"):\n",
        "      os.mkdir(f\"/content/drive/MyDrive/Indian Celebrity Prediction/datasets/images/original images/{name}\")\n",
        "\n",
        "  if len(os.listdir(f\"/content/drive/MyDrive/Indian Celebrity Prediction/datasets/images/original images/{name}\"))>105:\n",
        "      print(name, \"images fetching start\")\n",
        "      results=get_images(name, 150, 170)\n",
        "      #to download image from urls\n",
        "      print(name, \"images downloading start\")\n",
        "      for i, url in enumerate(results[\"images_url\"][1:]):\n",
        "          try:\n",
        "              download_image(url, f\"{name}/{i}.jpg\")\n",
        "          except:\n",
        "              print(\"downloading error\")\n",
        "      print(name, len(results[\"images_url\"]), len(results[\"images_encoded\"]), results[\"skipped_invalid_url\"], results[\"already_exists\"], results[\"num_scrolls\"])\n",
        "      print(name, len(results[\"images_url\"]), \"images download successful\")"
      ]
    },
    {
      "cell_type": "code",
      "source": [
        "download_celebrity_images('Shah Rukh Khan')"
      ],
      "metadata": {
        "id": "F1yTmtxOklaq"
      },
      "execution_count": null,
      "outputs": []
    },
    {
      "cell_type": "code",
      "execution_count": null,
      "metadata": {
        "id": "XY5beh1qU6c7"
      },
      "outputs": [],
      "source": [
        "if __name__==\"__main__\":\n",
        " for name in ['Rajkumar Rao']:\n",
        "  download_celebrity_images(name)"
      ]
    },
    {
      "cell_type": "code",
      "source": [
        "for name in os.listdir(\"/content/drive/MyDrive/Indian Celebrity Prediction/datasets/images/original images\"):\n",
        "    if name not in celebrity_names:\n",
        "        print(name)"
      ],
      "metadata": {
        "id": "3V_bzuJ8R-FJ"
      },
      "execution_count": null,
      "outputs": []
    },
    {
      "cell_type": "code",
      "execution_count": null,
      "metadata": {
        "colab": {
          "base_uri": "https://localhost:8080/"
        },
        "id": "BnxfbBDwcbny",
        "outputId": "977d79e6-5e5c-4895-b050-b056b077790b"
      },
      "outputs": [
        {
          "name": "stdout",
          "output_type": "stream",
          "text": [
            "\tzip warning: name not matched: /home/images/\n",
            "\n",
            "zip error: Nothing to do! (try: zip -r images.zip . -i /home/images/)\n"
          ]
        }
      ],
      "source": [
        "!zip -r images.zip /home/images/"
      ]
    }
  ],
  "metadata": {
    "colab": {
      "provenance": [],
      "authorship_tag": "ABX9TyNT+BM32cLd7e1Vjl7xAxd+",
      "include_colab_link": true
    },
    "kernelspec": {
      "display_name": "Python 3",
      "name": "python3"
    },
    "language_info": {
      "name": "python"
    }
  },
  "nbformat": 4,
  "nbformat_minor": 0
}
